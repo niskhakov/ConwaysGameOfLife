{
 "cells": [
  {
   "cell_type": "markdown",
   "metadata": {},
   "source": [
    "## Creating a pseudorandom generator"
   ]
  },
  {
   "cell_type": "code",
   "execution_count": 1,
   "metadata": {},
   "outputs": [],
   "source": [
    "import java.util.Random;"
   ]
  },
  {
   "cell_type": "code",
   "execution_count": 2,
   "metadata": {},
   "outputs": [],
   "source": [
    "Random random = new Random();\n",
    "Random random = new Random(100000);"
   ]
  },
  {
   "cell_type": "markdown",
   "metadata": {},
   "source": [
    "## The basic methods"
   ]
  },
  {
   "cell_type": "markdown",
   "metadata": {},
   "source": [
    "After we have created a generator, we may invoke one of the following methods on the object:\n",
    "* int nextInt() returns a pseudorandom value of the int type;\n",
    "* int nextInt(int n) returns a pseudorandom value of int type in the range of from 0 (inclusive) to n (exclusive);\n",
    "* long nextLong() returns a pseudorandom value of long type;\n",
    "* double nextDouble() returns a pseudorandom value of double type between 0.0 and 1.0;\n",
    "* void nextBytes(byte[] bytes) generates random bytes and places them into a user-supplied byte array."
   ]
  },
  {
   "cell_type": "code",
   "execution_count": 34,
   "metadata": {},
   "outputs": [
    {
     "name": "stdout",
     "output_type": "stream",
     "text": [
      "3\n"
     ]
    }
   ],
   "source": [
    "Random random = new Random();\n",
    "System.out.println(random.nextInt(5)); // it may print 0, 1, 2, 4"
   ]
  },
  {
   "cell_type": "code",
   "execution_count": 48,
   "metadata": {},
   "outputs": [
    {
     "name": "stdout",
     "output_type": "stream",
     "text": [
      "2\n",
      "0\n",
      "1.2925399572222773\n",
      "-0.7143273140176507\n"
     ]
    }
   ],
   "source": [
    "Random random = new Random(100000);\n",
    "System.out.println(random.nextInt(5)); \n",
    "System.out.println(random.nextInt(5)); \n",
    "System.out.println(random.nextGaussian());\n",
    "System.out.println(random.nextGaussian());"
   ]
  },
  {
   "cell_type": "markdown",
   "metadata": {},
   "source": [
    "## An example: printing pseudorandom numbers"
   ]
  },
  {
   "cell_type": "code",
   "execution_count": 49,
   "metadata": {},
   "outputs": [
    {
     "name": "stdin",
     "output_type": "stream",
     "text": [
      " 10 20 30\n"
     ]
    },
    {
     "name": "stdout",
     "output_type": "stream",
     "text": [
      "26\n",
      "29\n",
      "29\n",
      "30\n",
      "28\n",
      "22\n",
      "21\n",
      "23\n",
      "24\n",
      "24\n"
     ]
    }
   ],
   "source": [
    "Scanner scanner = new Scanner(System.in);\n",
    "\n",
    "int n = scanner.nextInt();\n",
    "int from = scanner.nextInt();\n",
    "int to = scanner.nextInt() + 1;\n",
    "\n",
    "Random random = new Random();\n",
    "\n",
    "for (int i = 0; i < n; i++) {\n",
    "    System.out.println(random.nextInt(to - from) + from);\n",
    "}"
   ]
  },
  {
   "cell_type": "markdown",
   "metadata": {},
   "source": [
    "__Generate random numbers task:__"
   ]
  },
  {
   "cell_type": "code",
   "execution_count": 52,
   "metadata": {},
   "outputs": [
    {
     "name": "stdin",
     "output_type": "stream",
     "text": [
      " 100 5 10\n"
     ]
    },
    {
     "name": "stdout",
     "output_type": "stream",
     "text": [
      "734\n"
     ]
    }
   ],
   "source": [
    "Scanner scanner = new Scanner(System.in);\n",
    "        \n",
    "int n = scanner.nextInt();\n",
    "int a = scanner.nextInt();\n",
    "int b = scanner.nextInt() + 1;\n",
    "\n",
    "Random random = new Random(a + b - 1);\n",
    "\n",
    "int sum = 0;\n",
    "\n",
    "for(int i = 0; i < n; i++) {\n",
    "    sum += (random.nextInt(b-a) + a);\n",
    "}\n",
    "\n",
    "System.out.println(sum);"
   ]
  },
  {
   "cell_type": "markdown",
   "metadata": {},
   "source": [
    "__Find the seed:__"
   ]
  },
  {
   "cell_type": "code",
   "execution_count": 54,
   "metadata": {},
   "outputs": [
    {
     "name": "stdin",
     "output_type": "stream",
     "text": [
      " 0 100 1000 1000\n"
     ]
    },
    {
     "name": "stdout",
     "output_type": "stream",
     "text": [
      "5\n",
      "993\n"
     ]
    }
   ],
   "source": [
    "Scanner scanner = new Scanner(System.in);\n",
    "int a = scanner.nextInt();\n",
    "int b = scanner.nextInt()+1;\n",
    "int n = scanner.nextInt();\n",
    "int k = scanner.nextInt();\n",
    "\n",
    "int min = Integer.MAX_VALUE;\n",
    "int minSeed = a;\n",
    "int cur, curMax;\n",
    "Random random;\n",
    "\n",
    "for(int i = 0; i < (b-a); i++) {\n",
    "    curMax = Integer.MIN_VALUE;\n",
    "    random = new Random(a+i);\n",
    "    // Find maximum among n random values with seed a+i\n",
    "    for(int j = 0; j < n; j++) {\n",
    "        cur = random.nextInt(k);\n",
    "        if(cur > curMax) {\n",
    "            curMax = cur;\n",
    "        }\n",
    "    }\n",
    "\n",
    "    // Compare max of current row with maximums of other rows -> it should be minimum\n",
    "    if(curMax < min) {\n",
    "        min = curMax;\n",
    "        minSeed = a+i;\n",
    "    }\n",
    "}\n",
    "System.out.println(minSeed);\n",
    "System.out.println(min);"
   ]
  },
  {
   "cell_type": "markdown",
   "metadata": {},
   "source": [
    "__Gaussian random numbers task:__"
   ]
  },
  {
   "cell_type": "code",
   "execution_count": 58,
   "metadata": {},
   "outputs": [
    {
     "name": "stdin",
     "output_type": "stream",
     "text": [
      " 10000 1 1.9\n"
     ]
    },
    {
     "name": "stdout",
     "output_type": "stream",
     "text": [
      "10000\n"
     ]
    }
   ],
   "source": [
    "Scanner scanner = new Scanner(System.in);\n",
    "int k = scanner.nextInt();\n",
    "int n = scanner.nextInt();\n",
    "double m = scanner.nextDouble();\n",
    "\n",
    "int curSeed = k;\n",
    "Random random;\n",
    "boolean found = false;\n",
    "while(!found) {\n",
    "    random = new Random(curSeed);\n",
    "    found = true;\n",
    "    for(int i = 0; i < n; i++) {\n",
    "        if(random.nextGaussian() >= m) {\n",
    "            found = false;\n",
    "            break;\n",
    "        }\n",
    "    }\n",
    "    if(!found) {\n",
    "        curSeed++;\n",
    "    } \n",
    "}\n",
    "System.out.println(curSeed);"
   ]
  }
 ],
 "metadata": {
  "kernelspec": {
   "display_name": "Java",
   "language": "java",
   "name": "java"
  },
  "language_info": {
   "codemirror_mode": "java",
   "file_extension": ".java",
   "mimetype": "text/x-java-source",
   "name": "Java",
   "pygments_lexer": "java",
   "version": "11.0.2+9-LTS"
  }
 },
 "nbformat": 4,
 "nbformat_minor": 2
}
