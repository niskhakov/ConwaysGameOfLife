{
 "cells": [
  {
   "cell_type": "markdown",
   "metadata": {},
   "source": [
    "# Threads as objects"
   ]
  },
  {
   "cell_type": "markdown",
   "metadata": {},
   "source": [
    "## The information about the main thread\n"
   ]
  },
  {
   "cell_type": "code",
   "execution_count": 2,
   "metadata": {},
   "outputs": [
    {
     "name": "stdout",
     "output_type": "stream",
     "text": [
      "Name: my-thread\n",
      "ID: 17\n",
      "Alive: true\n",
      "Priority: 5\n",
      "Daemon: false\n",
      "New name: my-thread\n"
     ]
    }
   ],
   "source": [
    "Thread t = Thread.currentThread(); // main thread\n",
    "\n",
    "System.out.println(\"Name: \" + t.getName());\n",
    "System.out.println(\"ID: \" + t.getId());\n",
    "System.out.println(\"Alive: \" + t.isAlive());\n",
    "System.out.println(\"Priority: \" + t.getPriority());\n",
    "System.out.println(\"Daemon: \" + t.isDaemon());\n",
    "\n",
    "t.setName(\"my-thread\");\n",
    "System.out.println(\"New name: \" + t.getName());"
   ]
  },
  {
   "cell_type": "markdown",
   "metadata": {},
   "source": [
    "__Getting current thread info task:__"
   ]
  },
  {
   "cell_type": "code",
   "execution_count": 4,
   "metadata": {},
   "outputs": [],
   "source": [
    "public static void printCurrentThreadInfo() {\n",
    "    Thread t = Thread.currentThread();\n",
    "    System.out.println(\"name: \" + t.getName());\n",
    "    System.out.println(\"priority: \" + t.getPriority());\n",
    "}\n"
   ]
  }
 ],
 "metadata": {
  "kernelspec": {
   "display_name": "Java",
   "language": "java",
   "name": "java"
  },
  "language_info": {
   "codemirror_mode": "java",
   "file_extension": ".java",
   "mimetype": "text/x-java-source",
   "name": "Java",
   "pygments_lexer": "java",
   "version": "11.0.1+13-Ubuntu-3ubuntu3.18.10.1"
  }
 },
 "nbformat": 4,
 "nbformat_minor": 2
}
