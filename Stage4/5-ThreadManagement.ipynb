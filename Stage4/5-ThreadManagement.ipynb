{
 "cells": [
  {
   "cell_type": "markdown",
   "metadata": {},
   "source": [
    "# Thread management"
   ]
  },
  {
   "cell_type": "markdown",
   "metadata": {},
   "source": [
    "## Sleeping"
   ]
  },
  {
   "cell_type": "code",
   "execution_count": 1,
   "metadata": {},
   "outputs": [
    {
     "name": "stdout",
     "output_type": "stream",
     "text": [
      "Started\n",
      "Finished\n"
     ]
    }
   ],
   "source": [
    "System.out.println(\"Started\");\n",
    "\n",
    "Thread.sleep(2000L); // suspend current thread for 2000 millis\n",
    "         \n",
    "System.out.println(\"Finished\");"
   ]
  },
  {
   "cell_type": "code",
   "execution_count": 2,
   "metadata": {},
   "outputs": [],
   "source": [
    "import java.util.concurrent.TimeUnit;"
   ]
  },
  {
   "cell_type": "code",
   "execution_count": 3,
   "metadata": {},
   "outputs": [
    {
     "name": "stdout",
     "output_type": "stream",
     "text": [
      "Started\n",
      "Intermediate step\n",
      "Finish\n"
     ]
    }
   ],
   "source": [
    "System.out.println(\"Started\");\n",
    "TimeUnit.MILLISECONDS.sleep(2000);\n",
    "System.out.println(\"Intermediate step\");\n",
    "TimeUnit.SECONDS.sleep(2);\n",
    "System.out.println(\"Finish\");"
   ]
  },
  {
   "cell_type": "markdown",
   "metadata": {},
   "source": [
    "## Joining\n"
   ]
  },
  {
   "cell_type": "markdown",
   "metadata": {},
   "source": [
    "The join method forces the current thread to wait for completion of another thread on which the method was called."
   ]
  },
  {
   "cell_type": "code",
   "execution_count": null,
   "metadata": {},
   "outputs": [],
   "source": [
    "Thread thread = ...\n",
    "thread.start(); // start thread\n",
    "\n",
    "System.out.println(\"Do something useful\");\n",
    "\n",
    "thread.join();  // waiting for thread to die\n",
    "\n",
    "System.out.println(\"Do something else\");"
   ]
  },
  {
   "cell_type": "code",
   "execution_count": null,
   "metadata": {},
   "outputs": [],
   "source": [
    "thread.join(2000L); // This can be useful not to wait too long or infinitely if the thread is hung."
   ]
  },
  {
   "cell_type": "code",
   "execution_count": 4,
   "metadata": {},
   "outputs": [],
   "source": [
    "class Worker extends Thread {\n",
    "    \n",
    "    @Override\n",
    "    public void run() {\n",
    "        try {\n",
    "            System.out.println(\"Starting a task\");\n",
    "            Thread.sleep(2000L); // it solves a difficult task\n",
    "        } catch (Exception ignored) {\n",
    "        }\n",
    "    }\n",
    "}"
   ]
  },
  {
   "cell_type": "code",
   "execution_count": 8,
   "metadata": {},
   "outputs": [],
   "source": [
    "public class JoiningExample {\n",
    "    public static void main(String[] args) throws InterruptedException {\n",
    "        Thread worker = new Worker();\n",
    "        worker.start();\n",
    "        \n",
    "        Thread.sleep(100L);\n",
    "        System.out.println(\"Do something useful\");\n",
    "        \n",
    "        worker.join(3000L);\n",
    "        System.out.println(\"The program is stopped\");\n",
    "    }\n",
    "}"
   ]
  },
  {
   "cell_type": "code",
   "execution_count": 11,
   "metadata": {},
   "outputs": [
    {
     "name": "stdout",
     "output_type": "stream",
     "text": [
      "Starting a task\n",
      "Do something useful\n",
      "The program is stopped\n"
     ]
    }
   ],
   "source": [
    "JoiningExample.main(null);"
   ]
  },
  {
   "cell_type": "markdown",
   "metadata": {},
   "source": [
    "__Vegan Pizza task:__"
   ]
  },
  {
   "cell_type": "code",
   "execution_count": 13,
   "metadata": {},
   "outputs": [],
   "source": [
    "public static void cookVeganPizza() throws InterruptedException {\n",
    "        Base base = new Base();\n",
    "        Tomatoes tomatoes = new Tomatoes();\n",
    "        Onion onion = new Onion();\n",
    "        Bake bake = new Bake();\n",
    "        java.util.List<Thread> stepOfCook = new java.util.ArrayList<>();\n",
    "        stepOfCook.add(base);\n",
    "        stepOfCook.add(tomatoes);\n",
    "        stepOfCook.add(onion);\n",
    "        stepOfCook.add(bake);\n",
    "        for (Thread step : stepOfCook) {\n",
    "            step.start();\n",
    "            step.join();\n",
    "        }\n",
    "    }\n"
   ]
  },
  {
   "cell_type": "markdown",
   "metadata": {},
   "source": [
    "__Ordering execution of threads task:__"
   ]
  },
  {
   "cell_type": "code",
   "execution_count": 14,
   "metadata": {},
   "outputs": [],
   "source": [
    "public static void invokeMethods(Thread t1, Thread t2, Thread t3) throws InterruptedException {\n",
    "    t3.start(); t3.join();\n",
    "    t2.start(); t2.join();\n",
    "    t1.start(); t1.join();\n",
    "}\n"
   ]
  },
  {
   "cell_type": "markdown",
   "metadata": {},
   "source": [
    "__Summing ranges with thread task:__"
   ]
  },
  {
   "cell_type": "code",
   "execution_count": 15,
   "metadata": {},
   "outputs": [],
   "source": [
    "public static void main(String args[]) throws InterruptedException {\n",
    "    final Scanner scanner = new Scanner(System.in);\n",
    "\n",
    "    final int from1Incl = scanner.nextInt(); // left border of the first range\n",
    "    final int to1Incl = scanner.nextInt();   // right border of the first range\n",
    "\n",
    "    final int from2Incl = scanner.nextInt(); // left border of the second range\n",
    "    final int to2Incl = scanner.nextInt();   // right border of the second range\n",
    "\n",
    "    RangeSummator summator1 = new RangeSummator(from1Incl, to1Incl); // first summator\n",
    "    RangeSummator summator2 = new RangeSummator(from2Incl, to2Incl); // second summator\n",
    "    \n",
    "    summator1.start();\n",
    "    summator2.start();\n",
    "    \n",
    "    summator1.join();\n",
    "    summator2.join();\n",
    "\n",
    "    long partialSum1 = summator1.getResult();\n",
    "    long partialSum2 = summator2.getResult();\n",
    "\n",
    "    long sum = partialSum1 + partialSum2; // the sum is 0, fix it!\n",
    "\n",
    "    System.out.println(sum);\n",
    "}"
   ]
  }
 ],
 "metadata": {
  "kernelspec": {
   "display_name": "Java",
   "language": "java",
   "name": "java"
  },
  "language_info": {
   "codemirror_mode": "java",
   "file_extension": ".java",
   "mimetype": "text/x-java-source",
   "name": "Java",
   "pygments_lexer": "java",
   "version": "11.0.2+9-LTS"
  }
 },
 "nbformat": 4,
 "nbformat_minor": 2
}
