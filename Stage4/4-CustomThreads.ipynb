{
 "cells": [
  {
   "cell_type": "markdown",
   "metadata": {},
   "source": [
    "# Custom threads "
   ]
  },
  {
   "cell_type": "markdown",
   "metadata": {},
   "source": [
    "## Create custom threads"
   ]
  },
  {
   "cell_type": "markdown",
   "metadata": {},
   "source": [
    "Java primarily has two ways to create a new thread that performs a task you need.\n",
    "* by extending the Thread class and overriding its run method\n",
    "* by implementing the Runnable interface and passing the implementation to the constructor of the Thread class\n"
   ]
  },
  {
   "cell_type": "code",
   "execution_count": 1,
   "metadata": {},
   "outputs": [],
   "source": [
    "class HelloThread extends Thread {\n",
    "\n",
    "    @Override\n",
    "    public void run() {\n",
    "        String helloMsg = String.format(\"Hello, i'm %s\", getName());\n",
    "        System.out.println(helloMsg);\n",
    "    }\n",
    "}"
   ]
  },
  {
   "cell_type": "code",
   "execution_count": 4,
   "metadata": {},
   "outputs": [],
   "source": [
    "class HelloRunnable implements Runnable {\n",
    "\n",
    "    @Override\n",
    "    public void run() {\n",
    "        String threadName = Thread.currentThread().getName();\n",
    "        String helloMsg = String.format(\"Hello, i'm %s\", threadName);\n",
    "        System.out.println(helloMsg);\n",
    "    }\n",
    "}"
   ]
  },
  {
   "cell_type": "code",
   "execution_count": 5,
   "metadata": {},
   "outputs": [],
   "source": [
    "Thread t1 = new HelloThread(); // a subclass of Thread\n",
    "\n",
    "Thread t2 = new Thread(new HelloRunnable()); // passing runnable"
   ]
  },
  {
   "cell_type": "code",
   "execution_count": 6,
   "metadata": {},
   "outputs": [],
   "source": [
    "Thread t3 = new Thread(() -> {\n",
    "    System.out.println(String.format(\"Hello, i'm %s\", Thread.currentThread().getName()));\n",
    "});"
   ]
  },
  {
   "cell_type": "markdown",
   "metadata": {},
   "source": [
    "## Starting threads"
   ]
  },
  {
   "cell_type": "code",
   "execution_count": 7,
   "metadata": {},
   "outputs": [],
   "source": [
    "Thread helloThread = new HelloThread(); // an object representing a thread\n",
    "helloThread.start();"
   ]
  },
  {
   "cell_type": "markdown",
   "metadata": {},
   "source": [
    "__Numbers filter task:__"
   ]
  },
  {
   "cell_type": "code",
   "execution_count": 8,
   "metadata": {},
   "outputs": [],
   "source": [
    "class NumbersFilter extends Thread {\n",
    "\n",
    "    /* use it to read numbers from the standard input */\n",
    "    private final Scanner scanner = new Scanner(System.in);\n",
    "\n",
    "    @Override\n",
    "    public void run() {\n",
    "        int num = 0;\n",
    "        while((num = scanner.nextInt()) != 0) {\n",
    "            if(num % 2 == 0) \n",
    "                System.out.println(num);\n",
    "        }\n",
    "        \n",
    "    }\n",
    "}\n"
   ]
  },
  {
   "cell_type": "markdown",
   "metadata": {},
   "source": [
    "__Starting runnables task:__"
   ]
  },
  {
   "cell_type": "code",
   "execution_count": 10,
   "metadata": {},
   "outputs": [],
   "source": [
    "public static void startRunnables(Runnable[] runnables) {\n",
    "    for(Runnable run : runnables) {\n",
    "        Thread t = new Thread(run);\n",
    "        t.start();\n",
    "    }\n",
    "}\n"
   ]
  },
  {
   "cell_type": "markdown",
   "metadata": {},
   "source": [
    "__Starting multiple threads - 2 task:__"
   ]
  },
  {
   "cell_type": "code",
   "execution_count": 11,
   "metadata": {},
   "outputs": [],
   "source": [
    "public class Main {\n",
    "\n",
    "    public static void main(String[] args) {\n",
    "        Thread t1 = new Thread(new RunnableWorker(), \"worker-1\");\n",
    "        Thread t2 = new Thread(new RunnableWorker(), \"worker-2\");\n",
    "        Thread t3 = new Thread(new RunnableWorker(), \"worker-3\");\n",
    "        t1.start(); t2.start(); t3.start();\n",
    "        \n",
    "    }\n",
    "}"
   ]
  }
 ],
 "metadata": {
  "kernelspec": {
   "display_name": "Java",
   "language": "java",
   "name": "java"
  },
  "language_info": {
   "codemirror_mode": "java",
   "file_extension": ".java",
   "mimetype": "text/x-java-source",
   "name": "Java",
   "pygments_lexer": "java",
   "version": "11.0.1+13-Ubuntu-3ubuntu3.18.10.1"
  }
 },
 "nbformat": 4,
 "nbformat_minor": 2
}
