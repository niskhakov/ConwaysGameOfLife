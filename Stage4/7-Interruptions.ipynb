{
 "cells": [
  {
   "cell_type": "markdown",
   "metadata": {},
   "source": [
    "# Interruptions"
   ]
  },
  {
   "cell_type": "markdown",
   "metadata": {},
   "source": [
    "An interruption does not force a thread to react immediately but notifies its about such need."
   ]
  },
  {
   "cell_type": "markdown",
   "metadata": {},
   "source": [
    "## Interrupt() and isInterrupted()"
   ]
  },
  {
   "cell_type": "code",
   "execution_count": 1,
   "metadata": {},
   "outputs": [
    {
     "ename": "CompilationException",
     "evalue": "",
     "output_type": "error",
     "traceback": [
      "\u001b[1m\u001b[30m|   \u001b[1m\u001b[30mThread thread = \u001b[0m\u001b[1m\u001b[30m\u001b[41m\u001b[0m\u001b[1m\u001b[30m...\u001b[0m",
      "\u001b[1m\u001b[31millegal start of expression\u001b[0m",
      ""
     ]
    }
   ],
   "source": [
    "Thread thread = ...\n",
    "thread.interrupt(); // interrupt this thread\n"
   ]
  },
  {
   "cell_type": "markdown",
   "metadata": {},
   "source": [
    "The reaction to this event is determined by the interrupted thread itself. One common use case for that is to stop the execution. But, also a thread can simply ignore it."
   ]
  },
  {
   "cell_type": "markdown",
   "metadata": {},
   "source": [
    "Invoking thread.interrupt() will cause InterruptedException if the thread is sleeping or joining other thread. Otherwise, only the interrupted flag will be set to true."
   ]
  },
  {
   "cell_type": "markdown",
   "metadata": {},
   "source": [
    "Example:"
   ]
  },
  {
   "cell_type": "code",
   "execution_count": 3,
   "metadata": {},
   "outputs": [],
   "source": [
    "public class CustomThread extends Thread {\n",
    "\n",
    "    @Override\n",
    "    public void run() {\n",
    "        while (!isInterrupted()) {\n",
    "            try {\n",
    "                doAction();\n",
    "                Thread.sleep(1000); // it may throw InterruptedException\n",
    "            } catch (InterruptedException e) {\n",
    "                System.out.println(\"sleeping was interrupted\");\n",
    "                break; // stop the loop\n",
    "            }\n",
    "        }\n",
    "        System.out.printf(\"%s finished\", getName());\n",
    "    }\n",
    "\n",
    "    private void doAction() {\n",
    "        // something useful\n",
    "    }\n",
    "}"
   ]
  },
  {
   "cell_type": "markdown",
   "metadata": {},
   "source": [
    "If you prefer implementing Runnable rather than extending Thread directly, you may use the static method Thread.interrupted() inside the run method. The main difference between this and previous methods is the static method resets the interruption status to false."
   ]
  },
  {
   "cell_type": "markdown",
   "metadata": {},
   "source": [
    "## An example: counting with interruption"
   ]
  },
  {
   "cell_type": "code",
   "execution_count": 4,
   "metadata": {},
   "outputs": [],
   "source": [
    "class CountingTask implements Runnable {\n",
    "\n",
    "    @Override\n",
    "    public void run() {\n",
    "        System.out.println(\"Start counting\");\n",
    "        int i = 1; // the first number to print\n",
    "\n",
    "        try {\n",
    "            while (!Thread.interrupted()) {\n",
    "                System.out.println(i);\n",
    "                i++;\n",
    "                Thread.sleep(1000); \n",
    "            }\n",
    "        } catch (InterruptedException e) {\n",
    "            System.out.println(\"Sleeping was interrupted\");\n",
    "        }\n",
    "        System.out.println(\"Finishing\");\n",
    "    }\n",
    "}\n"
   ]
  },
  {
   "cell_type": "code",
   "execution_count": 5,
   "metadata": {},
   "outputs": [],
   "source": [
    "public class InterruptionDemo {\n",
    "\n",
    "    public static void main(String[] args) throws InterruptedException {\n",
    "        Thread counter = new Thread(new CountingTask());\n",
    "        counter.start();\n",
    "        Thread.sleep(5000L);\n",
    "        counter.interrupt();\n",
    "        counter.join();\n",
    "    }\n",
    "}"
   ]
  },
  {
   "cell_type": "code",
   "execution_count": 6,
   "metadata": {},
   "outputs": [
    {
     "name": "stdout",
     "output_type": "stream",
     "text": [
      "Start counting\n",
      "1\n",
      "2\n",
      "3\n",
      "4\n",
      "5\n",
      "Sleeping was interrupted\n",
      "Finishing\n"
     ]
    }
   ],
   "source": [
    "InterruptionDemo.main(null);"
   ]
  },
  {
   "cell_type": "markdown",
   "metadata": {},
   "source": [
    "__Interrupting a thread task:__"
   ]
  },
  {
   "cell_type": "code",
   "execution_count": 7,
   "metadata": {},
   "outputs": [],
   "source": [
    "public static void main(String[] args) throws InterruptedException {\n",
    "\n",
    "    Worker worker = new Worker();\n",
    "\n",
    "    worker.start();\n",
    "    Thread.sleep(3000L);\n",
    "    worker.interrupt();\n",
    "}\n"
   ]
  },
  {
   "cell_type": "markdown",
   "metadata": {},
   "source": [
    "__Handling interruptions:__"
   ]
  },
  {
   "cell_type": "code",
   "execution_count": 8,
   "metadata": {},
   "outputs": [],
   "source": [
    "class CounterThread extends Thread {\n",
    "\n",
    "    @Override\n",
    "    public void run() {\n",
    "        long counter = 0;\n",
    "\n",
    "        while (!isInterrupted()) {\n",
    "            counter++;\n",
    "        }\n",
    "        System.out.println(\"It was interrupted\");\n",
    "    }\n",
    "}\n"
   ]
  }
 ],
 "metadata": {
  "kernelspec": {
   "display_name": "Java",
   "language": "java",
   "name": "java"
  },
  "language_info": {
   "codemirror_mode": "java",
   "file_extension": ".java",
   "mimetype": "text/x-java-source",
   "name": "Java",
   "pygments_lexer": "java",
   "version": "11.0.2+9-LTS"
  }
 },
 "nbformat": 4,
 "nbformat_minor": 2
}
