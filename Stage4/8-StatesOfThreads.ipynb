{
 "cells": [
  {
   "cell_type": "markdown",
   "metadata": {},
   "source": [
    "# States Of Threads"
   ]
  },
  {
   "cell_type": "markdown",
   "metadata": {},
   "source": [
    "## The Thread.State enum"
   ]
  },
  {
   "cell_type": "markdown",
   "metadata": {},
   "source": [
    "In Java, the state of a thread is presented by the Thread.State enum with six possible values:\n",
    "* __NEW__: an instance of the class Thread has been created, but it has not yet started;\n",
    "* __RUNNABLE__: a thread is executing in JVM but it may be waiting for OS resources such a processor;\n",
    "* __BLOCKED__: a thread that is blocked waiting for a monitor lock (we will consider it later);\n",
    "* __WAITING__: a thread is waiting for another thread indefinitely long to perform a task (e.g. join without timeout);\n",
    "* __TIMED_WAITING__: a thread is waiting for another thread for a specified waiting time (e.g. sleep, join with timeout);\n",
    "* __TERMINATED__: a thread terminates when run method completely executes itself or an uncaught exception occurs. Once a thread terminates it never gets back to its runnable state."
   ]
  },
  {
   "cell_type": "code",
   "execution_count": null,
   "metadata": {},
   "outputs": [],
   "source": [
    "Thread worker = ... // new worker to make a difficult task\n",
    "System.out.println(worker.getState()); // NEW\n",
    "         \n",
    "worker.start(); // start the worker\n",
    "System.out.println(worker.getState()); // RUNNABLE\n",
    "\n",
    "worker.join();  // wating for completing the woker\n",
    "System.out.println(worker.getState()); // TERMINATED"
   ]
  },
  {
   "cell_type": "markdown",
   "metadata": {},
   "source": [
    "__Finding and starting a thread task:__"
   ]
  },
  {
   "cell_type": "code",
   "execution_count": 7,
   "metadata": {},
   "outputs": [],
   "source": [
    "public static void findAndStartThread(Thread... threads) throws InterruptedException {\n",
    "    for(Thread thread : threads) {\n",
    "        if(thread.getState().equals(Thread.State.NEW)) {\n",
    "            thread.start();\n",
    "            thread.join();\n",
    "            break;\n",
    "        }\n",
    "    }\n",
    "}\n"
   ]
  },
  {
   "cell_type": "markdown",
   "metadata": {},
   "source": [
    "__Reference solution:__"
   ]
  },
  {
   "cell_type": "code",
   "execution_count": 8,
   "metadata": {},
   "outputs": [],
   "source": [
    "public class Main {\n",
    "\n",
    "    private static long mainThreadId = Thread.currentThread().getId();\n",
    "\n",
    "    public static void main(String args[]) throws InterruptedException {\n",
    "        final Thread t1 = new Thread();\n",
    "        final Thread t2 = new Thread();\n",
    "        final Thread t3 = new Thread();\n",
    "        final Thread t4 = new Worker(\"New thread is found!\");\n",
    "        final Thread t5 = new Thread();\n",
    "\n",
    "        t1.start();\n",
    "        t2.start();\n",
    "        t3.start();\n",
    "        t5.start();\n",
    "\n",
    "        findAndStartThread(t1, t2, t3, t4, t5);\n",
    "    }\n",
    "\n",
    "    public static void findAndStartThread(Thread... threads) throws InterruptedException {\n",
    "        Thread found = null;\n",
    "\n",
    "        for (int i = 0; i < threads.length; i++) {\n",
    "            if (threads[i].getState() == Thread.State.NEW) {\n",
    "                found = threads[i];\n",
    "                break;\n",
    "            }\n",
    "        }\n",
    "\n",
    "        found.start();\n",
    "    }\n",
    "\n",
    "    static class Worker extends Thread {\n",
    "\n",
    "        private final String secret;\n",
    "\n",
    "        public Worker(String secret) {\n",
    "            this.secret = secret;\n",
    "        }\n",
    "\n",
    "        @Override\n",
    "        public void run() {\n",
    "\n",
    "            final long currentId = getId();\n",
    "\n",
    "            if (currentId == mainThreadId) {\n",
    "                throw new RuntimeException(\"You must start a new thread!\");\n",
    "            }\n",
    "\n",
    "            System.out.print(secret);\n",
    "        }\n",
    "    }\n",
    "}"
   ]
  }
 ],
 "metadata": {
  "kernelspec": {
   "display_name": "Java",
   "language": "java",
   "name": "java"
  },
  "language_info": {
   "codemirror_mode": "java",
   "file_extension": ".java",
   "mimetype": "text/x-java-source",
   "name": "Java",
   "pygments_lexer": "java",
   "version": "11.0.2+9-LTS"
  }
 },
 "nbformat": 4,
 "nbformat_minor": 2
}
