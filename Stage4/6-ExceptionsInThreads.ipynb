{
 "cells": [
  {
   "cell_type": "markdown",
   "metadata": {},
   "source": [
    "# Exceptions In Threads"
   ]
  },
  {
   "cell_type": "code",
   "execution_count": 1,
   "metadata": {},
   "outputs": [],
   "source": [
    "public class ExceptionInThreadExample {\n",
    "    public static void main(String[] args) throws InterruptedException {\n",
    "        Thread thread = new CustomThread();\n",
    "        thread.start();\n",
    "        thread.join(); // wait for thread terminates\n",
    "        System.out.println(\"OK\"); // this line will be printed\n",
    "    }\n",
    "}\n",
    "\n",
    "class CustomThread extends Thread {\n",
    "\n",
    "    @Override\n",
    "    public void run() {\n",
    "        System.out.println(2 / 0);\n",
    "    }\n",
    "}"
   ]
  },
  {
   "cell_type": "code",
   "execution_count": 2,
   "metadata": {},
   "outputs": [
    {
     "name": "stderr",
     "output_type": "stream",
     "text": [
      "Exception in thread \"Thread-1\" java.lang.ArithmeticException: / by zero\n",
      "\tat REPL.$JShell$19$CustomThread.run($JShell$19.java:17)\n"
     ]
    },
    {
     "name": "stdout",
     "output_type": "stream",
     "text": [
      "OK\n"
     ]
    }
   ],
   "source": [
    "ExceptionInThreadExample.main(null);"
   ]
  },
  {
   "cell_type": "markdown",
   "metadata": {},
   "source": [
    "Thus, exceptions in different threads are handled independently. While the process has an alive non-daemon thread, it won't be stopped if an uncaught exception occurs. But the good practice is to handle exceptions in threads."
   ]
  },
  {
   "cell_type": "markdown",
   "metadata": {},
   "source": [
    "__Uncaught exception in the main thread task:__"
   ]
  },
  {
   "cell_type": "markdown",
   "metadata": {},
   "source": [
    "Only the main thread will stop, but eventually the process will finish with the code 1 (Error)."
   ]
  }
 ],
 "metadata": {
  "kernelspec": {
   "display_name": "Java",
   "language": "java",
   "name": "java"
  },
  "language_info": {
   "codemirror_mode": "java",
   "file_extension": ".java",
   "mimetype": "text/x-java-source",
   "name": "Java",
   "pygments_lexer": "java",
   "version": "11.0.2+9-LTS"
  }
 },
 "nbformat": 4,
 "nbformat_minor": 2
}
